{
 "cells": [
  {
   "cell_type": "code",
   "execution_count": 4,
   "metadata": {},
   "outputs": [
    {
     "name": "stdout",
     "output_type": "stream",
     "text": [
      "The autoreload extension is already loaded. To reload it, use:\n",
      "  %reload_ext autoreload\n"
     ]
    }
   ],
   "source": [
    "%load_ext autoreload\n",
    "%autoreload 2"
   ]
  },
  {
   "cell_type": "code",
   "execution_count": 48,
   "metadata": {},
   "outputs": [],
   "source": [
    "import sys\n",
    "sys.path.insert(0, \"./\")\n",
    "import tensorflow as tf\n",
    "import basic_block\n",
    "import time\n",
    "import os\n",
    "import load_data"
   ]
  },
  {
   "cell_type": "code",
   "execution_count": 76,
   "metadata": {},
   "outputs": [],
   "source": [
    "\n",
    "def train(style_list, content_list, save_model_dir,batch_size=1, num_epochs=1, style_weight=1, content_weight=1,\n",
    "          ngf=64, log_interval=1):\n",
    "\n",
    "    ########################\n",
    "    # Data loader\n",
    "    ########################\n",
    "    \n",
    "    content_loader = load_data.get_dataloader(content_list, batch_size, target_size=(256,256))\n",
    "    style_loader = load_data.get_dataloader(style_list, batch_size, target_size=(256, 256))\n",
    "    content_loader_iter = iter(content_loader)\n",
    "    style_loader_iter = iter(style_loader)\n",
    "\n",
    "    ########################\n",
    "    # Init model\n",
    "    ########################  \n",
    "    vgg = basic_block.Vgg()\n",
    "    style_model = basic_block.Net(ngf = ngf)\n",
    "    ########################\n",
    "    # optimizer and loss\n",
    "    ########################\n",
    "    mse_loss = tf.keras.losses.mean_squared_error\n",
    "    optimizer = tf.keras.optimizers.Adam()\n",
    "    ########################\n",
    "    # Start training loop\n",
    "    ########################\n",
    "    for epoch in range(num_epochs):\n",
    "        agg_content_loss = 0.0\n",
    "        agg_style_loss = 0.0\n",
    "        count = 0\n",
    "        for batch_id, content_img in enumerate(content_loader_iter):\n",
    "            with tf.GradientTape() as tape:\n",
    "                n_batch = len(content_img)\n",
    "                count += n_batch\n",
    "                # data preparation. TODO: figure out these helper functions\n",
    "                style_image = next(style_loader_iter)\n",
    "                #style_v = utils.subtract_imagenet_mean_preprocess_batch(style_image.copy())\n",
    "\n",
    "                feature_style = vgg(style_image)\n",
    "                gram_style = [basic_block.gram_matrix(y) for y in feature_style]\n",
    "\n",
    "                f_xc_c = vgg(content_img)[1]\n",
    "\n",
    "                style_model.set_target(style_image)\n",
    "                y = style_model(content_img)\n",
    "                features_y = vgg(y)\n",
    "                \n",
    "                #print(y.shape, content_img.shape)\n",
    "                #print(features_y[1].shape, f_xc_c.shape)\n",
    "                \n",
    "                # TODO: why the coefficient 2?\n",
    "                content_loss = 2 * content_weight * mse_loss(features_y[1], f_xc_c)\n",
    "\n",
    "                style_loss = 0.0\n",
    "                for m in range(len(features_y)):\n",
    "                    gram_y = basic_block.gram_matrix(features_y[m])\n",
    "                    print(gram_style[m].shape)\n",
    "                    _, C = gram_style[m].shape\n",
    "                    gram_s = tf.expand_dims(gram_style[m], 0).broadcast_to(batch_size, 1, C, C)\n",
    "                    style_loss += 2 * style_weight * mse_loss(gram_y, gram_s[:n_batch, :, :])\n",
    "                total_loss = content_loss + style_loss\n",
    "                agg_content_loss += content_loss[0]\n",
    "                agg_style_loss += style_loss[0]\n",
    "            gradients = tape.gradient(total_loss, style_model.variables)\n",
    "            optimizer.apply_gradients(zip(gradients, style_model.trainable_variables))\n",
    "\n",
    "            if (batch_id + 1) % log_interval == 0:\n",
    "                mesg = \"{}\\tEpoch {}:\\tcontent: {:.3f}\\tstyle: {:.3f}\\ttotal: {:.3f}\".format(\n",
    "                    time.ctime(), epoch + 1,\n",
    "                                  agg_content_loss / (batch_id + 1),\n",
    "                                  agg_style_loss / (batch_id + 1),\n",
    "                                  (agg_content_loss + agg_style_loss) / (batch_id + 1)\n",
    "                )\n",
    "                print(mesg)\n",
    "\n",
    "            if (batch_id + 1) % (4 * log_interval) == 0:\n",
    "                # save model\n",
    "                save_model_filename = \"Epoch_\" + str(epoch) + \"iters_\" + \\\n",
    "                    str(count) + \"_\" + str(time.ctime()).replace(' ', '_') + \"_\" + str(\n",
    "                    content_weight) + \"_\" + str(style_weight) + \".params\"\n",
    "                save_model_path = os.path.join(save_model_dir, save_model_filename)\n",
    "                tf.saved_model.save(style_model, save_model_path)\n",
    "                print(\"\\nCheckpoint, trained model saved at\", save_model_path)\n",
    "\n",
    "\n"
   ]
  },
  {
   "cell_type": "code",
   "execution_count": 77,
   "metadata": {
    "scrolled": false
   },
   "outputs": [
    {
     "name": "stdout",
     "output_type": "stream",
     "text": [
      "(64, 64)\n"
     ]
    },
    {
     "ename": "AttributeError",
     "evalue": "'tensorflow.python.framework.ops.EagerTensor' object has no attribute 'broadcast_to'",
     "output_type": "error",
     "traceback": [
      "\u001b[0;31m------------------------------------------\u001b[0m",
      "\u001b[0;31mAttributeError\u001b[0mTraceback (most recent call last)",
      "\u001b[0;32m<ipython-input-77-c8f8cdaaf30f>\u001b[0m in \u001b[0;36m<module>\u001b[0;34m\u001b[0m\n\u001b[1;32m      1\u001b[0m \u001b[0mstyle_list\u001b[0m \u001b[0;34m=\u001b[0m \u001b[0mload_data\u001b[0m\u001b[0;34m.\u001b[0m\u001b[0mget_data_paths\u001b[0m\u001b[0;34m(\u001b[0m\u001b[0;34m\"content\"\u001b[0m\u001b[0;34m)\u001b[0m\u001b[0;34m\u001b[0m\u001b[0;34m\u001b[0m\u001b[0m\n\u001b[1;32m      2\u001b[0m \u001b[0mcontent_list\u001b[0m \u001b[0;34m=\u001b[0m \u001b[0mload_data\u001b[0m\u001b[0;34m.\u001b[0m\u001b[0mget_data_paths\u001b[0m\u001b[0;34m(\u001b[0m\u001b[0;34m\"style\"\u001b[0m\u001b[0;34m)\u001b[0m\u001b[0;34m\u001b[0m\u001b[0;34m\u001b[0m\u001b[0m\n\u001b[0;32m----> 3\u001b[0;31m \u001b[0mtrain\u001b[0m\u001b[0;34m(\u001b[0m\u001b[0mstyle_list\u001b[0m\u001b[0;34m,\u001b[0m \u001b[0mcontent_list\u001b[0m\u001b[0;34m,\u001b[0m \u001b[0;34m\"models\"\u001b[0m\u001b[0;34m)\u001b[0m\u001b[0;34m\u001b[0m\u001b[0;34m\u001b[0m\u001b[0m\n\u001b[0m",
      "\u001b[0;32m<ipython-input-76-b6389b074811>\u001b[0m in \u001b[0;36mtrain\u001b[0;34m(style_list, content_list, save_model_dir, batch_size, num_epochs, style_weight, content_weight, ngf, log_interval)\u001b[0m\n\u001b[1;32m     57\u001b[0m                     \u001b[0mprint\u001b[0m\u001b[0;34m(\u001b[0m\u001b[0mgram_style\u001b[0m\u001b[0;34m[\u001b[0m\u001b[0mm\u001b[0m\u001b[0;34m]\u001b[0m\u001b[0;34m.\u001b[0m\u001b[0mshape\u001b[0m\u001b[0;34m)\u001b[0m\u001b[0;34m\u001b[0m\u001b[0;34m\u001b[0m\u001b[0m\n\u001b[1;32m     58\u001b[0m                     \u001b[0m_\u001b[0m\u001b[0;34m,\u001b[0m \u001b[0mC\u001b[0m \u001b[0;34m=\u001b[0m \u001b[0mgram_style\u001b[0m\u001b[0;34m[\u001b[0m\u001b[0mm\u001b[0m\u001b[0;34m]\u001b[0m\u001b[0;34m.\u001b[0m\u001b[0mshape\u001b[0m\u001b[0;34m\u001b[0m\u001b[0;34m\u001b[0m\u001b[0m\n\u001b[0;32m---> 59\u001b[0;31m                     \u001b[0mgram_s\u001b[0m \u001b[0;34m=\u001b[0m \u001b[0mtf\u001b[0m\u001b[0;34m.\u001b[0m\u001b[0mexpand_dims\u001b[0m\u001b[0;34m(\u001b[0m\u001b[0mgram_style\u001b[0m\u001b[0;34m[\u001b[0m\u001b[0mm\u001b[0m\u001b[0;34m]\u001b[0m\u001b[0;34m,\u001b[0m \u001b[0;36m0\u001b[0m\u001b[0;34m)\u001b[0m\u001b[0;34m.\u001b[0m\u001b[0mbroadcast_to\u001b[0m\u001b[0;34m(\u001b[0m\u001b[0mbatch_size\u001b[0m\u001b[0;34m,\u001b[0m \u001b[0;36m1\u001b[0m\u001b[0;34m,\u001b[0m \u001b[0mC\u001b[0m\u001b[0;34m,\u001b[0m \u001b[0mC\u001b[0m\u001b[0;34m)\u001b[0m\u001b[0;34m\u001b[0m\u001b[0;34m\u001b[0m\u001b[0m\n\u001b[0m\u001b[1;32m     60\u001b[0m                     \u001b[0mstyle_loss\u001b[0m \u001b[0;34m+=\u001b[0m \u001b[0;36m2\u001b[0m \u001b[0;34m*\u001b[0m \u001b[0mstyle_weight\u001b[0m \u001b[0;34m*\u001b[0m \u001b[0mmse_loss\u001b[0m\u001b[0;34m(\u001b[0m\u001b[0mgram_y\u001b[0m\u001b[0;34m,\u001b[0m \u001b[0mgram_s\u001b[0m\u001b[0;34m[\u001b[0m\u001b[0;34m:\u001b[0m\u001b[0mn_batch\u001b[0m\u001b[0;34m,\u001b[0m \u001b[0;34m:\u001b[0m\u001b[0;34m,\u001b[0m \u001b[0;34m:\u001b[0m\u001b[0;34m]\u001b[0m\u001b[0;34m)\u001b[0m\u001b[0;34m\u001b[0m\u001b[0;34m\u001b[0m\u001b[0m\n\u001b[1;32m     61\u001b[0m                 \u001b[0mtotal_loss\u001b[0m \u001b[0;34m=\u001b[0m \u001b[0mcontent_loss\u001b[0m \u001b[0;34m+\u001b[0m \u001b[0mstyle_loss\u001b[0m\u001b[0;34m\u001b[0m\u001b[0;34m\u001b[0m\u001b[0m\n",
      "\u001b[0;31mAttributeError\u001b[0m: 'tensorflow.python.framework.ops.EagerTensor' object has no attribute 'broadcast_to'"
     ]
    }
   ],
   "source": [
    "style_list = load_data.get_data_paths(\"content\")\n",
    "content_list = load_data.get_data_paths(\"style\")\n",
    "train(style_list, content_list, \"models\")"
   ]
  },
  {
   "cell_type": "code",
   "execution_count": null,
   "metadata": {},
   "outputs": [],
   "source": []
  },
  {
   "cell_type": "code",
   "execution_count": null,
   "metadata": {},
   "outputs": [],
   "source": []
  }
 ],
 "metadata": {
  "kernelspec": {
   "display_name": "Python 3",
   "language": "python",
   "name": "python3"
  },
  "language_info": {
   "codemirror_mode": {
    "name": "ipython",
    "version": 3
   },
   "file_extension": ".py",
   "mimetype": "text/x-python",
   "name": "python",
   "nbconvert_exporter": "python",
   "pygments_lexer": "ipython3",
   "version": "3.7.2"
  }
 },
 "nbformat": 4,
 "nbformat_minor": 2
}
