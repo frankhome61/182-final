{
 "cells": [
  {
   "cell_type": "code",
   "execution_count": 1,
   "metadata": {},
   "outputs": [],
   "source": [
    "%load_ext autoreload\n",
    "%autoreload 2"
   ]
  },
  {
   "cell_type": "code",
   "execution_count": 27,
   "metadata": {},
   "outputs": [],
   "source": [
    "import tensorflow as tf\n",
    "import os\n",
    "from tensorflow.keras import models "
   ]
  },
  {
   "cell_type": "code",
   "execution_count": 24,
   "metadata": {},
   "outputs": [],
   "source": [
    "def load_and_preprocess_image_tensor(path, target_shape):\n",
    "    \"\"\"\n",
    "    Loads and image from PATH and returns a EagerTensor \n",
    "    shape: (H, W, C)\n",
    "    dtype: float32\n",
    "    \"\"\"\n",
    "    image = tf.io.read_file(path)\n",
    "    return preprocess_image_tensor(image, target_shape)\n",
    "\n",
    "def preprocess_image_tensor(image, target_shape):\n",
    "    \"\"\"Resizes given image\"\"\"\n",
    "    image = tf.image.decode_jpeg(image, channels=3)\n",
    "    image = tf.image.convert_image_dtype(image, dtype=tf.float32) \n",
    "    image -= 0.5\n",
    "    image *= 2\n",
    "    image = tf.image.resize(image, \n",
    "                           target_shape)\n",
    "    return image\n",
    "\n",
    "\n",
    "def get_data_paths(data_dir):\n",
    "    path_lst = []\n",
    "    \n",
    "    #assert dataset_type == 'train' or dataset_type == 'val', \"Please specify either train or validation\"\n",
    "    for file in os.listdir(data_dir):\n",
    "        if file.endswith(\".jpg\"):\n",
    "            path_lst.append(os.path.join(data_dir, file))\n",
    "    return path_lst\n",
    "\n",
    "\n",
    "def get_dataloader(path_lst, batch_size, target_size=(400, 400)):\n",
    "    \"\"\"Returns a batch dataset of size BATCH_SIZE\"\"\"\n",
    "    process_fn = lambda path: load_and_preprocess_image_tensor(path, target_size)\n",
    "    \n",
    "    \n",
    "    train_data = tf.data.Dataset.from_tensor_slices(\n",
    "                 (tf.constant(path_lst)))\n",
    "\n",
    "    return train_data.map(process_fn) \\\n",
    "             .shuffle(buffer_size=10000) \\\n",
    "             .batch(batch_size)"
   ]
  },
  {
   "cell_type": "code",
   "execution_count": 17,
   "metadata": {},
   "outputs": [],
   "source": [
    "style_layers = ['block1_conv1',\n",
    "                'block2_conv1',\n",
    "                'block3_conv1', \n",
    "                'block4_conv1', \n",
    "                'block5_conv1'\n",
    "               ]\n",
    "content_layers = ['block5_conv2'] "
   ]
  },
  {
   "cell_type": "code",
   "execution_count": 9,
   "metadata": {
    "scrolled": true
   },
   "outputs": [],
   "source": [
    "vgg = tf.keras.applications.vgg19.VGG19(include_top=False, weights='imagenet')"
   ]
  },
  {
   "cell_type": "code",
   "execution_count": 6,
   "metadata": {},
   "outputs": [],
   "source": [
    "vgg.trainable = False"
   ]
  },
  {
   "cell_type": "code",
   "execution_count": 18,
   "metadata": {},
   "outputs": [],
   "source": [
    "style_outputs = [vgg.get_layer(name).output for name in style_layers]\n",
    "content_outputs = [vgg.get_layer(name).output for name in content_layers]"
   ]
  },
  {
   "cell_type": "code",
   "execution_count": 19,
   "metadata": {},
   "outputs": [],
   "source": [
    "model = models.Model(vgg.input, style_outputs + content_outputs)"
   ]
  },
  {
   "cell_type": "code",
   "execution_count": 31,
   "metadata": {},
   "outputs": [],
   "source": [
    "path_lst = get_data_paths('train/style')\n",
    "dat = get_dataloader(path_lst, 1, target_size=(400, 400))"
   ]
  },
  {
   "cell_type": "code",
   "execution_count": null,
   "metadata": {},
   "outputs": [],
   "source": [
    "img = next(iter(dat))"
   ]
  },
  {
   "cell_type": "code",
   "execution_count": 20,
   "metadata": {},
   "outputs": [
    {
     "data": {
      "text/plain": [
       "<tf.Tensor 'input_2:0' shape=(None, None, None, 3) dtype=float32>"
      ]
     },
     "execution_count": 20,
     "metadata": {},
     "output_type": "execute_result"
    }
   ],
   "source": [
    "vgg.input"
   ]
  },
  {
   "cell_type": "code",
   "execution_count": null,
   "metadata": {},
   "outputs": [],
   "source": []
  }
 ],
 "metadata": {
  "kernelspec": {
   "display_name": "Python 3",
   "language": "python",
   "name": "python3"
  },
  "language_info": {
   "codemirror_mode": {
    "name": "ipython",
    "version": 3
   },
   "file_extension": ".py",
   "mimetype": "text/x-python",
   "name": "python",
   "nbconvert_exporter": "python",
   "pygments_lexer": "ipython3",
   "version": "3.7.2"
  }
 },
 "nbformat": 4,
 "nbformat_minor": 2
}
